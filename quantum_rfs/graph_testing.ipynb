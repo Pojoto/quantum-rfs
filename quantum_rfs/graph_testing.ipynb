{
 "cells": [
  {
   "cell_type": "code",
   "execution_count": null,
   "id": "15bd26b1",
   "metadata": {},
   "outputs": [],
   "source": [
    "import matplotlib.pyplot as plt\n",
    "\n",
    "# Global call counter\n",
    "call_count = 0\n",
    "\n",
    "def f(x, y):\n",
    "    global call_count\n",
    "    call_count += 1\n",
    "    if y == 0:\n",
    "        return\n",
    "    for _ in range(x):\n",
    "        f(x, y - 1)\n",
    "\n",
    "# Prepare data\n",
    "xs = [2, 3, 4]\n",
    "ys = [1, 2, 3, 4, 5]\n",
    "actual_counts = []\n",
    "theoretical_counts = []\n",
    "labels = []\n",
    "\n",
    "for x in xs:\n",
    "    for y in ys:\n",
    "        call_count = 0\n",
    "        f(x, y)\n",
    "        actual_counts.append(call_count)\n",
    "        theoretical_counts.append(x ** y)\n",
    "        labels.append(f\"{x}^{y}\")\n",
    "\n",
    "# Plotting\n",
    "plt.plot(actual_counts, label=\"Actual Call Count\", marker='o')\n",
    "plt.plot(theoretical_counts, label=\"x^y (Theoretical)\", linestyle='--', marker='x')\n",
    "plt.xticks(ticks=range(len(labels)), labels=labels, rotation=45)\n",
    "plt.xlabel(\"Input (x, y)\")\n",
    "plt.ylabel(\"Function Calls\")\n",
    "plt.title(\"Actual vs Theoretical Call Growth\")\n",
    "plt.legend()\n",
    "plt.tight_layout_\n"
   ]
  }
 ],
 "metadata": {
  "language_info": {
   "name": "python"
  }
 },
 "nbformat": 4,
 "nbformat_minor": 5
}
