{
 "cells": [
  {
   "cell_type": "code",
   "execution_count": null,
   "id": "d9688bd2",
   "metadata": {},
   "outputs": [],
   "source": [
    "from qiskit import QuantumCircuit\n",
    "import random\n",
    "import itertools\n",
    "import qiskit_aer\n",
    "\n",
    "# Parameters\n",
    "n = 21\n",
    "bitstrings = [''.join(p) for p in itertools.product('01', repeat=n)]\n",
    "s = random.choice(bitstrings)  # secret string\n",
    "\n",
    "# Inner product mod 2\n",
    "def g(s, x):\n",
    "    return sum(int(a) & int(b) for a, b in zip(s, x)) % 2\n",
    "\n",
    "# Bernstein-Vazirani circuit to find s\n",
    "def bernstein_vazirani_circuit(s):\n",
    "    n = len(s)\n",
    "    qc = QuantumCircuit(n + 1, n)\n",
    "\n",
    "    qc.x(n)       # Set output qubit to |1⟩\n",
    "    qc.h(n)       # Hadamard on output qubit\n",
    "    qc.h(range(n))  # Hadamard on input qubits\n",
    "\n",
    "    # Oracle U_f: flips phase based on s · x\n",
    "    for i, bit in enumerate(s):\n",
    "        if bit == '1':\n",
    "            qc.cx(i, n)\n",
    "\n",
    "    qc.h(range(n))        # Hadamard again\n",
    "    qc.measure(range(n), range(n))  # Measure input qubits\n",
    "\n",
    "    return qc\n",
    "\n",
    "# Build and run\n",
    "qc = bernstein_vazirani_circuit(s)\n",
    "print(qc.draw())\n",
    "sim = qiskit_aer.AerSimulator()\n",
    "result = sim.run(qc, shots=1024).result()\n",
    "counts = result.get_counts()\n",
    "\n",
    "# Show results\n",
    "print(f\"Secret string used: {s}\")\n",
    "print(\"Measured result:\", counts)"
   ]
  }
 ],
 "metadata": {
  "language_info": {
   "name": "python"
  }
 },
 "nbformat": 4,
 "nbformat_minor": 5
}
