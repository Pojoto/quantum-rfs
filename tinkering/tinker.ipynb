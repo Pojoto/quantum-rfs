{
 "cells": [
  {
   "cell_type": "code",
   "execution_count": 1,
   "id": "1707e158",
   "metadata": {},
   "outputs": [
    {
     "name": "stdout",
     "output_type": "stream",
     "text": [
      "           \n",
      "   q: ─────\n",
      "      ┌───┐\n",
      "r1_0: ┤ H ├\n",
      "      ├───┤\n",
      "r1_1: ┤ H ├\n",
      "      ├───┤\n",
      "r2_0: ┤ H ├\n",
      "      ├───┤\n",
      "r2_1: ┤ H ├\n",
      "      └───┘\n"
     ]
    }
   ],
   "source": [
    "from qiskit import QuantumCircuit, QuantumRegister\n",
    "\n",
    "# Step 1: Start with 1 qubit\n",
    "qc = QuantumCircuit(1)\n",
    "qc.name = \"Start with 1 qubit\"\n",
    "\n",
    "# Step 2: Add a 2-qubit register and apply Hadamards\n",
    "reg1 = QuantumRegister(2, name='r1')\n",
    "qc.add_register(reg1)\n",
    "qc.h(reg1)  # Equal superposition over r1\n",
    "\n",
    "# Step 3: Add another 2-qubit register and apply Hadamards\n",
    "reg2 = QuantumRegister(2, name='r2')\n",
    "qc.add_register(reg2)\n",
    "qc.h(reg2)  # Equal superposition over r2\n",
    "\n",
    "# Step 4: Print the circuit\n",
    "print(qc.draw())\n"
   ]
  }
 ],
 "metadata": {
  "kernelspec": {
   "display_name": "fresh_aer",
   "language": "python",
   "name": "python3"
  },
  "language_info": {
   "codemirror_mode": {
    "name": "ipython",
    "version": 3
   },
   "file_extension": ".py",
   "mimetype": "text/x-python",
   "name": "python",
   "nbconvert_exporter": "python",
   "pygments_lexer": "ipython3",
   "version": "3.12.4"
  }
 },
 "nbformat": 4,
 "nbformat_minor": 5
}
